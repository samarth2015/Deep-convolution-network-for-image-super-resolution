{
 "cells": [
  {
   "cell_type": "code",
   "execution_count": 1,
   "metadata": {},
   "outputs": [],
   "source": [
    "import os\n",
    "from PIL import Image, ImageFilter\n",
    "import numpy as np"
   ]
  },
  {
   "cell_type": "code",
   "execution_count": null,
   "metadata": {},
   "outputs": [],
   "source": [
    "input_dir = 'archive/T91'\n",
    "output_dir_lr = 'sub_images_lr'\n",
    "output_dir_hr = 'sub_images_hr'\n",
    "sub_image_size = 32\n",
    "stride = 14\n",
    "scale = 2 #in this implementation we are taking the upscaling factor of 2 only\n",
    "blur_radius = 1.0\n",
    "\n",
    "if not os.path.exists(output_dir_lr):\n",
    "    os.makedirs(output_dir_lr)\n",
    "\n",
    "if not os.path.exists(output_dir_hr):\n",
    "    os.makedirs(output_dir_hr)\n",
    "\n",
    "count = 0 # just to keep track of the number of patches\n",
    "for filename in os.listdir(input_dir):\n",
    "    filepath = os.path.join(input_dir, filename)\n",
    "\n",
    "    # First we will do it for greyscale images and then will extend it to color images\n",
    "    # Convert to YCrCb\n",
    "    img = Image.open(filepath).convert('YCbCr')\n",
    "    img = img.split()[0] # get the Y channel\n",
    "\n",
    "    h, w = img.size\n",
    "\n",
    "    for i in range(0, h - sub_image_size + 1, stride):\n",
    "        for j in range(0, w - sub_image_size + 1, stride):\n",
    "            # get the high resolution sub-image\n",
    "            hr_sub_image = img.crop((j, i, j + sub_image_size, i + sub_image_size))\n",
    "\n",
    "            #add gaussian noise to the patch\n",
    "            hr_patch_image = hr_sub_image.filter(ImageFilter.GaussianBlur(blur_radius))\n",
    "\n",
    "            # Downsample and upsample the patch \n",
    "            # subsample the image by scale\n",
    "            lr_patch_image = hr_patch_image.resize((sub_image_size//scale, sub_image_size//scale), Image.BICUBIC)\n",
    "            # upsample the image by scale\n",
    "            lr_patch_image = lr_patch_image.resize((sub_image_size, sub_image_size), Image.BICUBIC)\n",
    "\n",
    "            # Save the sub-images\n",
    "            lr_patch_image.save(os.path.join(output_dir_lr, filename.split('.')[0] + '_' + str(i) + '_' + str(j) + '.png'))\n",
    "            hr_patch_image.save(os.path.join(output_dir_hr, filename.split('.')[0] + '_' + str(i) + '_' + str(j) + '.png'))\n",
    "\n",
    "            count += 1"
   ]
  },
  {
   "cell_type": "markdown",
   "metadata": {},
   "source": [
    "By making sub image in a systematic way we were able to generate 22227 images of size 32X32 with the stride of 14X14"
   ]
  },
  {
   "cell_type": "code",
   "execution_count": 3,
   "metadata": {},
   "outputs": [
    {
     "name": "stdout",
     "output_type": "stream",
     "text": [
      "22227\n"
     ]
    }
   ],
   "source": [
    "print(count)"
   ]
  },
  {
   "cell_type": "code",
   "execution_count": null,
   "metadata": {},
   "outputs": [],
   "source": []
  }
 ],
 "metadata": {
  "kernelspec": {
   "display_name": "Python 3",
   "language": "python",
   "name": "python3"
  },
  "language_info": {
   "codemirror_mode": {
    "name": "ipython",
    "version": 3
   },
   "file_extension": ".py",
   "mimetype": "text/x-python",
   "name": "python",
   "nbconvert_exporter": "python",
   "pygments_lexer": "ipython3",
   "version": "3.12.6"
  }
 },
 "nbformat": 4,
 "nbformat_minor": 2
}
